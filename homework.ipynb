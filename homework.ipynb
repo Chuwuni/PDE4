{
 "cells": [
  {
   "cell_type": "code",
   "execution_count": 52,
   "id": "9c4f5b2e",
   "metadata": {},
   "outputs": [],
   "source": [
    "import re\n",
    "from utils import REGION_CODES"
   ]
  },
  {
   "cell_type": "markdown",
   "id": "9182e3a5",
   "metadata": {},
   "source": [
    "# Задание 1"
   ]
  },
  {
   "cell_type": "code",
   "execution_count": 49,
   "id": "e4eedd44",
   "metadata": {},
   "outputs": [],
   "source": [
    "reg_letter = r\"[АВЕКМНОРСТУХ]\""
   ]
  },
  {
   "cell_type": "code",
   "execution_count": null,
   "id": "ebe0c2d7",
   "metadata": {},
   "outputs": [],
   "source": [
    "def is_reg_number(num_plate:str):\n",
    "    num = num_plate.upper()[:6]\n",
    "    region = num_plate[6:]\n",
    "    num_res = re.fullmatch(\n",
    "        reg_letter+r\"\\d{3}\"+reg_letter+r\"{2}\",\n",
    "        num\n",
    "    )\n",
    "    reg_res = REGION_CODES.get(region, 0)\n",
    "    if num_res and reg_res:\n",
    "        print(f\"Номер {num} валиденю Регион: {region} - {reg_res}\")\n",
    "    else:\n",
    "        print(\"Номер не валиден.\")"
   ]
  },
  {
   "cell_type": "code",
   "execution_count": 127,
   "id": "ad8d2edc",
   "metadata": {},
   "outputs": [
    {
     "name": "stdout",
     "output_type": "stream",
     "text": [
      "Номер А222ВС валиденю Регион: 96 - Свердловская область\n"
     ]
    }
   ],
   "source": [
    "is_reg_number(\"А222ВС96\")"
   ]
  },
  {
   "cell_type": "code",
   "execution_count": 128,
   "id": "beeedc02",
   "metadata": {},
   "outputs": [
    {
     "name": "stdout",
     "output_type": "stream",
     "text": [
      "Номер А222ВС валиденю Регион: 96 - Свердловская область\n"
     ]
    }
   ],
   "source": [
    "is_reg_number(\"а222вс96\")"
   ]
  },
  {
   "cell_type": "code",
   "execution_count": 131,
   "id": "482f293b",
   "metadata": {},
   "outputs": [
    {
     "name": "stdout",
     "output_type": "stream",
     "text": [
      "Номер не валиден.\n"
     ]
    }
   ],
   "source": [
    "is_reg_number(\"АБ22ВВ93\")"
   ]
  },
  {
   "cell_type": "markdown",
   "id": "e2c98043",
   "metadata": {},
   "source": [
    "## Задание 2"
   ]
  },
  {
   "cell_type": "code",
   "execution_count": 152,
   "id": "f477909b",
   "metadata": {},
   "outputs": [
    {
     "data": {
      "text/plain": [
       "'Напишите функцию, которая будет удалять все последовательные повторы слов из заданной строки при помощи регулярных выражений'"
      ]
     },
     "execution_count": 152,
     "metadata": {},
     "output_type": "execute_result"
    }
   ],
   "source": [
    "def remove_repeats(string):\n",
    "    pattern = r'(\\w+)(\\s+\\1)+'\n",
    "    return re.sub(pattern, r'\\1', string)\n",
    "exp_srt = \"\"\"Напишите функцию функцию, которая будет будет будет будет удалять все все все все последовательные повторы слов из из из из заданной строки строки при помощи регулярных выражений\"\"\"\n",
    "remove_repeats(exp_srt)"
   ]
  }
 ],
 "metadata": {
  "kernelspec": {
   "display_name": "PDE4",
   "language": "python",
   "name": "python3"
  },
  "language_info": {
   "codemirror_mode": {
    "name": "ipython",
    "version": 3
   },
   "file_extension": ".py",
   "mimetype": "text/x-python",
   "name": "python",
   "nbconvert_exporter": "python",
   "pygments_lexer": "ipython3",
   "version": "3.13.2"
  }
 },
 "nbformat": 4,
 "nbformat_minor": 5
}
